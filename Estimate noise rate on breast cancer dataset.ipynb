{
 "cells": [
  {
   "cell_type": "code",
   "execution_count": 1,
   "metadata": {},
   "outputs": [
    {
     "name": "stderr",
     "output_type": "stream",
     "text": [
      "C:\\Users\\phuph\\Anaconda3\\lib\\site-packages\\sklearn\\cross_validation.py:41: DeprecationWarning: This module was deprecated in version 0.18 in favor of the model_selection module into which all the refactored classes and functions are moved. Also note that the interface of the new CV iterators are different from that of this module. This module will be removed in 0.20.\n",
      "  \"This module will be removed in 0.20.\", DeprecationWarning)\n"
     ]
    }
   ],
   "source": [
    "''' Import necessary libraries'''\n",
    "import os\n",
    "import time\n",
    "#Please fill in the input folder path and the output folder path\n",
    "input_path = r'C:\\Users\\phuph\\Desktop\\breast-cancer-wisconsin.data.csv'\n",
    "import pandas as pd\n",
    "import numpy as np\n",
    "from sklearn.metrics import accuracy_score\n",
    "\n",
    "import matplotlib.pylab as plt\n",
    "%matplotlib inline\n",
    "from sklearn.cross_validation import train_test_split\n",
    "from sklearn.model_selection import StratifiedKFold\n",
    "import random"
   ]
  },
  {
   "cell_type": "code",
   "execution_count": 2,
   "metadata": {},
   "outputs": [
    {
     "data": {
      "text/plain": [
       "(699, 11)"
      ]
     },
     "execution_count": 2,
     "metadata": {},
     "output_type": "execute_result"
    }
   ],
   "source": [
    "''' Read in the breast cancer dataset'''\n",
    "df = pd.read_csv(input_path,header = None )\n",
    "df.shape\n"
   ]
  },
  {
   "cell_type": "code",
   "execution_count": 3,
   "metadata": {
    "collapsed": true
   },
   "outputs": [],
   "source": [
    "''' Only use a portion of the instances for estimating the noise rate'''\n",
    "X_train = df.iloc[:,1:4].values\n",
    "Y_train = df[10].values"
   ]
  },
  {
   "cell_type": "code",
   "execution_count": 4,
   "metadata": {},
   "outputs": [],
   "source": [
    "''' Induce the CCN noise by flip rate'''\n",
    "rho_po_list = [0.1,0.2,0.3,0.4,0.4]\n",
    "rho_ne_list = [0.3,0.1,0.4,0.1,0.4]\n",
    "Y_new_list = []\n",
    "for i in range(5):\n",
    "    rho_po = rho_po_list[i]\n",
    "    rho_ne = rho_ne_list[i]\n",
    "    Y_temp = np.copy(Y_train)\n",
    "    for j in range(len(Y_temp)):\n",
    "        if Y_train[j] ==2:\n",
    "            temp = random.random()\n",
    "            if temp < rho_po:\n",
    "                Y_temp[j] = 4\n",
    "        else:\n",
    "            t = random.random()\n",
    "            if t < rho_ne:\n",
    "                Y_temp[j] = 2\n",
    "    Y_new_list.append([Y_temp,rho_po,rho_ne])"
   ]
  },
  {
   "cell_type": "code",
   "execution_count": 5,
   "metadata": {
    "collapsed": true
   },
   "outputs": [],
   "source": [
    "''' Import R and KLIEP method'''\n",
    "import rpy2\n",
    "import rpy2.robjects as robjects\n",
    "r = robjects.r\n",
    "#from rpy2.robjects.packages import importr\n",
    "#utils = importr(\"densratio\")\n",
    "import rpy2.robjects.numpy2ri as numpy2ri\n",
    "rpy2.robjects.numpy2ri.activate()\n",
    "\n",
    "robjects.r('''\n",
    "           f <- function(t,t1) {\n",
    "\n",
    "                    library(densratio)\n",
    "                    dens <- densratio(x = t, y = t1, method = \"KLIEP\")\n",
    "                    result <-dens$compute_density_ratio(t1)\n",
    "            }\n",
    "            ''')\n",
    "kliep_check = robjects.globalenv['f']"
   ]
  },
  {
   "cell_type": "code",
   "execution_count": 6,
   "metadata": {
    "collapsed": true
   },
   "outputs": [],
   "source": [
    "''' KLIEP function , return the noise rate'''\n",
    "def KLIEP_e(X,Y):\n",
    "    e_list=[]\n",
    "    X_rho_po= X[Y ==2]\n",
    "    X_rho_ne= X[Y ==4]\n",
    "    result_po= kliep_check(X_rho_po,X)\n",
    "    result_ne= kliep_check(X_rho_ne,X)\n",
    "    Po = np.asarray(result_po)\n",
    "    Ne = np.asarray(result_ne)\n",
    "    n = len(X)\n",
    "    py_po = sum(1 for i in Y if i==2)/n\n",
    "    py_ne = sum(1 for i in Y if i==4)/n\n",
    "    Po_n = min(Po*py_po)\n",
    "    Ne_n = min(Ne*py_ne)\n",
    "    e_list.append([Ne_n,Po_n])\n",
    "    return e_list\n",
    "    "
   ]
  },
  {
   "cell_type": "code",
   "execution_count": 11,
   "metadata": {},
   "outputs": [
    {
     "name": "stdout",
     "output_type": "stream",
     "text": [
      "0.1 0.3 [[ 0.09418433  0.18962609]] [[ 0.01598867  0.10528061]]\n",
      "0.2 0.1 [[ 0.17022241  0.06905786]] [[ 0.01978758  0.03397812]]\n",
      "0.3 0.4 [[ 0.28357128  0.38537659]] [[ 0.01419535  0.04565845]]\n",
      "0.4 0.1 [[ 0.47546262  0.03230297]] [[ 0.00432226  0.03469755]]\n",
      "0.4 0.4 [[ 0.40746121  0.34287514]] [[ 0.0381137   0.04147036]]\n"
     ]
    }
   ],
   "source": [
    "''' Estimate noise rate using KLIEP method'''\n",
    "skf = StratifiedKFold(n_splits=5)\n",
    "for i in Y_new_list:\n",
    "    acc = []\n",
    "    m =[]\n",
    "    sd =[]\n",
    "    Y = i[0]\n",
    "    X = X_train\n",
    "    for train_index,test_index in skf.split(X,Y):\n",
    "        x_train, x_test = X[train_index], X[test_index]\n",
    "        y_train, y_test = Y[train_index], Y[test_index]\n",
    "        a = KLIEP_e(x_train,y_train)\n",
    "        acc.append(a)\n",
    "    m = np.mean(acc,axis=0)\n",
    "    sd = np.std(acc,axis=0)\n",
    "    print(i[1],i[2],m,sd)"
   ]
  },
  {
   "cell_type": "code",
   "execution_count": 19,
   "metadata": {},
   "outputs": [
    {
     "name": "stdout",
     "output_type": "stream",
     "text": [
      "0.1 0.3 [ 0.25  0.3 ] [ 0.   0.1]\n",
      "0.2 0.1 [ 0.23  0.35] [ 0.04  0.  ]\n",
      "0.3 0.4 [ 0.278  0.3  ] [ 0.11285389  0.1       ]\n",
      "0.4 0.1 [ 0.25  0.35] [ 0.  0.]\n",
      "0.4 0.4 [ 0.25  0.35] [ 0.  0.]\n"
     ]
    }
   ],
   "source": [
    "'''Estimat noise rate using cross validation'''\n",
    "\n",
    "from sklearn.linear_model import LogisticRegression\n",
    "clf = LogisticRegression(penalty=\"l2\")\n",
    "skf1 = StratifiedKFold(n_splits=5)\n",
    "\n",
    "for i in Y_new_list:\n",
    "    Y = i[0]\n",
    "    X = X_train\n",
    "    rho_ne_tuned = 0\n",
    "    rho_po_tuned = 0\n",
    "    \n",
    "    li=[]\n",
    "    rho_po_list = [0.25,0.15,0.49,0.2,0.3]\n",
    "    rho_ne_list = [0.35,0.1,0.3,0.25,0.15]\n",
    "\n",
    "    for train_index,test_index in skf1.split(X,Y):\n",
    "        x_train, x_test = X[train_index], X[test_index]\n",
    "        y_train, y_test = Y[train_index], Y[test_index]\n",
    "        accurate = 0\n",
    "        accurate_new=0\n",
    "        for z in rho_po_list:\n",
    "            for j in rho_ne_list:\n",
    "                alpha = float(1 - z + j) / 2\n",
    "                sample_weight = (1-alpha)*np.ones(np.shape(y_train)) \n",
    "                sample_weight[y_train==0] = alpha\n",
    "                clf.fit(x_train,y_train,sample_weight=sample_weight)\n",
    "                pred = clf.predict(x_test)\n",
    "                a = accuracy_score(y_test,pred)\n",
    "                accurate_new =a\n",
    "                if accurate_new > accurate:\n",
    "                    accurate = accurate_new\n",
    "                    rho_po_tuned= z\n",
    "                    rho_ne_tuned= j\n",
    "        li.append([rho_po_tuned,rho_ne_tuned])\n",
    "        \n",
    "    print(i[1],i[2],np.mean(li,axis=0,dtype=np.float64),np.std(li,axis=0,dtype=np.float64))\n",
    "                "
   ]
  }
 ],
 "metadata": {
  "kernelspec": {
   "display_name": "Python 3",
   "language": "python",
   "name": "python3"
  },
  "language_info": {
   "codemirror_mode": {
    "name": "ipython",
    "version": 3
   },
   "file_extension": ".py",
   "mimetype": "text/x-python",
   "name": "python",
   "nbconvert_exporter": "python",
   "pygments_lexer": "ipython3",
   "version": "3.5.4"
  }
 },
 "nbformat": 4,
 "nbformat_minor": 2
}
